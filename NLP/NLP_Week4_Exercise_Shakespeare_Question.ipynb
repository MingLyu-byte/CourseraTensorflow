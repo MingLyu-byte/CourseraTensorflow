{
  "nbformat": 4,
  "nbformat_minor": 0,
  "metadata": {
    "accelerator": "GPU",
    "colab": {
      "name": "NLP_Week4_Exercise_Shakespeare_Question.ipynb",
      "provenance": [],
      "toc_visible": true
    },
    "kernelspec": {
      "display_name": "Python 3",
      "name": "python3"
    }
  },
  "cells": [
    {
      "cell_type": "code",
      "metadata": {
        "id": "zX4Kg8DUTKWO",
        "colab_type": "code",
        "colab": {}
      },
      "source": [
        "#@title Licensed under the Apache License, Version 2.0 (the \"License\");\n",
        "# you may not use this file except in compliance with the License.\n",
        "# You may obtain a copy of the License at\n",
        "#\n",
        "# https://www.apache.org/licenses/LICENSE-2.0\n",
        "#\n",
        "# Unless required by applicable law or agreed to in writing, software\n",
        "# distributed under the License is distributed on an \"AS IS\" BASIS,\n",
        "# WITHOUT WARRANTIES OR CONDITIONS OF ANY KIND, either express or implied.\n",
        "# See the License for the specific language governing permissions and\n",
        "# limitations under the License."
      ],
      "execution_count": 1,
      "outputs": []
    },
    {
      "cell_type": "code",
      "metadata": {
        "colab_type": "code",
        "id": "BOwsuGQQY9OL",
        "colab": {}
      },
      "source": [
        "from tensorflow.keras.preprocessing.sequence import pad_sequences\n",
        "from tensorflow.keras.layers import Embedding, LSTM, Dense, Dropout, Bidirectional\n",
        "from tensorflow.keras.preprocessing.text import Tokenizer\n",
        "from tensorflow.keras.models import Sequential\n",
        "from tensorflow.keras.optimizers import Adam\n",
        "### YOUR CODE HERE\n",
        "from tensorflow.keras import regularizers\n",
        "###\n",
        "import tensorflow.keras.utils as ku \n",
        "import numpy as np "
      ],
      "execution_count": 2,
      "outputs": []
    },
    {
      "cell_type": "code",
      "metadata": {
        "colab_type": "code",
        "id": "PRnDnCW-Z7qv",
        "colab": {
          "base_uri": "https://localhost:8080/",
          "height": 202
        },
        "outputId": "a3d1e504-bce9-49bc-d67b-6b07272dbf90"
      },
      "source": [
        "tokenizer = Tokenizer()\n",
        "!wget --no-check-certificate \\\n",
        "    https://storage.googleapis.com/laurencemoroney-blog.appspot.com/sonnets.txt \\\n",
        "    -O /tmp/sonnets.txt\n",
        "data = open('/tmp/sonnets.txt').read()\n",
        "\n",
        "corpus = data.lower().split(\"\\n\")\n",
        "\n",
        "\n",
        "tokenizer.fit_on_texts(corpus)\n",
        "total_words = len(tokenizer.word_index) + 1\n",
        "\n",
        "# create input sequences using list of tokens\n",
        "input_sequences = []\n",
        "for line in corpus:\n",
        "\ttoken_list = tokenizer.texts_to_sequences([line])[0]\n",
        "\tfor i in range(1, len(token_list)):\n",
        "\t\tn_gram_sequence = token_list[:i+1]\n",
        "\t\tinput_sequences.append(n_gram_sequence)\n",
        "\n",
        "\n",
        "# pad sequences \n",
        "max_sequence_len = max([len(x) for x in input_sequences])\n",
        "input_sequences = np.array(pad_sequences(input_sequences, maxlen=max_sequence_len, padding='pre'))\n",
        "\n",
        "# create predictors and label\n",
        "predictors, label = input_sequences[:,:-1],input_sequences[:,-1]\n",
        "\n",
        "label = ku.to_categorical(label, num_classes=total_words)"
      ],
      "execution_count": 3,
      "outputs": [
        {
          "output_type": "stream",
          "text": [
            "--2020-08-30 22:10:20--  https://storage.googleapis.com/laurencemoroney-blog.appspot.com/sonnets.txt\n",
            "Resolving storage.googleapis.com (storage.googleapis.com)... 173.194.203.128, 74.125.20.128, 74.125.142.128, ...\n",
            "Connecting to storage.googleapis.com (storage.googleapis.com)|173.194.203.128|:443... connected.\n",
            "HTTP request sent, awaiting response... 200 OK\n",
            "Length: 93578 (91K) [text/plain]\n",
            "Saving to: ‘/tmp/sonnets.txt’\n",
            "\n",
            "\r/tmp/sonnets.txt      0%[                    ]       0  --.-KB/s               \r/tmp/sonnets.txt    100%[===================>]  91.38K  --.-KB/s    in 0.001s  \n",
            "\n",
            "2020-08-30 22:10:20 (104 MB/s) - ‘/tmp/sonnets.txt’ saved [93578/93578]\n",
            "\n"
          ],
          "name": "stdout"
        }
      ]
    },
    {
      "cell_type": "code",
      "metadata": {
        "colab_type": "code",
        "id": "w9vH8Y59ajYL",
        "colab": {
          "base_uri": "https://localhost:8080/",
          "height": 370
        },
        "outputId": "06190b13-b7d6-4ba6-8448-fa593b364278"
      },
      "source": [
        "model = Sequential()\n",
        "model.add(Embedding(total_words,100,input_length=max_sequence_len-1))\n",
        "model.add(Bidirectional(LSTM(140, return_sequences = True)))\n",
        "model.add(Dropout(0.2))\n",
        "model.add(Bidirectional(LSTM(70)))\n",
        "model.add(Dense(4096, activation='relu', kernel_regularizer=regularizers.l2(0.01)))\n",
        "model.add(Dense(total_words,activation='softmax'))\n",
        "# Pick an optimizer\n",
        "model.compile(loss = 'categorical_crossentropy',optimizer = 'adam',metrics = ['accuracy'])\n",
        "print(model.summary())\n"
      ],
      "execution_count": 4,
      "outputs": [
        {
          "output_type": "stream",
          "text": [
            "Model: \"sequential\"\n",
            "_________________________________________________________________\n",
            "Layer (type)                 Output Shape              Param #   \n",
            "=================================================================\n",
            "embedding (Embedding)        (None, 10, 100)           321100    \n",
            "_________________________________________________________________\n",
            "bidirectional (Bidirectional (None, 10, 280)           269920    \n",
            "_________________________________________________________________\n",
            "dropout (Dropout)            (None, 10, 280)           0         \n",
            "_________________________________________________________________\n",
            "bidirectional_1 (Bidirection (None, 140)               196560    \n",
            "_________________________________________________________________\n",
            "dense (Dense)                (None, 4096)              577536    \n",
            "_________________________________________________________________\n",
            "dense_1 (Dense)              (None, 3211)              13155467  \n",
            "=================================================================\n",
            "Total params: 14,520,583\n",
            "Trainable params: 14,520,583\n",
            "Non-trainable params: 0\n",
            "_________________________________________________________________\n",
            "None\n"
          ],
          "name": "stdout"
        }
      ]
    },
    {
      "cell_type": "code",
      "metadata": {
        "colab_type": "code",
        "id": "AIg2f1HBxqof",
        "colab": {
          "base_uri": "https://localhost:8080/",
          "height": 1000
        },
        "outputId": "0b1e88a1-54c0-4989-e1e0-13a9b59864e8"
      },
      "source": [
        " history = model.fit(predictors, label, epochs=100, verbose=1)"
      ],
      "execution_count": 5,
      "outputs": [
        {
          "output_type": "stream",
          "text": [
            "Epoch 1/100\n",
            "484/484 [==============================] - 7s 14ms/step - loss: 6.8969 - accuracy: 0.0194\n",
            "Epoch 2/100\n",
            "484/484 [==============================] - 7s 14ms/step - loss: 6.5142 - accuracy: 0.0221\n",
            "Epoch 3/100\n",
            "484/484 [==============================] - 7s 14ms/step - loss: 6.3920 - accuracy: 0.0277\n",
            "Epoch 4/100\n",
            "484/484 [==============================] - 7s 14ms/step - loss: 6.2640 - accuracy: 0.0347\n",
            "Epoch 5/100\n",
            "484/484 [==============================] - 7s 14ms/step - loss: 6.1562 - accuracy: 0.0379\n",
            "Epoch 6/100\n",
            "484/484 [==============================] - 7s 14ms/step - loss: 6.0462 - accuracy: 0.0415\n",
            "Epoch 7/100\n",
            "484/484 [==============================] - 7s 14ms/step - loss: 5.9304 - accuracy: 0.0464\n",
            "Epoch 8/100\n",
            "484/484 [==============================] - 7s 14ms/step - loss: 5.8155 - accuracy: 0.0517\n",
            "Epoch 9/100\n",
            "484/484 [==============================] - 7s 14ms/step - loss: 5.6981 - accuracy: 0.0578\n",
            "Epoch 10/100\n",
            "484/484 [==============================] - 7s 14ms/step - loss: 5.5897 - accuracy: 0.0659\n",
            "Epoch 11/100\n",
            "484/484 [==============================] - 7s 14ms/step - loss: 5.4834 - accuracy: 0.0694\n",
            "Epoch 12/100\n",
            "484/484 [==============================] - 7s 14ms/step - loss: 5.3757 - accuracy: 0.0777\n",
            "Epoch 13/100\n",
            "484/484 [==============================] - 7s 14ms/step - loss: 5.2604 - accuracy: 0.0838\n",
            "Epoch 14/100\n",
            "484/484 [==============================] - 7s 14ms/step - loss: 5.1484 - accuracy: 0.0955\n",
            "Epoch 15/100\n",
            "484/484 [==============================] - 7s 14ms/step - loss: 5.0268 - accuracy: 0.1041\n",
            "Epoch 16/100\n",
            "484/484 [==============================] - 7s 14ms/step - loss: 4.9044 - accuracy: 0.1143\n",
            "Epoch 17/100\n",
            "484/484 [==============================] - 7s 14ms/step - loss: 4.7868 - accuracy: 0.1250\n",
            "Epoch 18/100\n",
            "484/484 [==============================] - 7s 14ms/step - loss: 4.6625 - accuracy: 0.1374\n",
            "Epoch 19/100\n",
            "484/484 [==============================] - 7s 14ms/step - loss: 4.5448 - accuracy: 0.1484\n",
            "Epoch 20/100\n",
            "484/484 [==============================] - 7s 14ms/step - loss: 4.4219 - accuracy: 0.1610\n",
            "Epoch 21/100\n",
            "484/484 [==============================] - 7s 14ms/step - loss: 4.2984 - accuracy: 0.1724\n",
            "Epoch 22/100\n",
            "484/484 [==============================] - 6s 13ms/step - loss: 4.1719 - accuracy: 0.1857\n",
            "Epoch 23/100\n",
            "484/484 [==============================] - 7s 14ms/step - loss: 4.0570 - accuracy: 0.1991\n",
            "Epoch 24/100\n",
            "484/484 [==============================] - 7s 14ms/step - loss: 3.9408 - accuracy: 0.2181\n",
            "Epoch 25/100\n",
            "484/484 [==============================] - 7s 14ms/step - loss: 3.8214 - accuracy: 0.2365\n",
            "Epoch 26/100\n",
            "484/484 [==============================] - 7s 14ms/step - loss: 3.7076 - accuracy: 0.2557\n",
            "Epoch 27/100\n",
            "484/484 [==============================] - 7s 14ms/step - loss: 3.6042 - accuracy: 0.2759\n",
            "Epoch 28/100\n",
            "484/484 [==============================] - 7s 14ms/step - loss: 3.4964 - accuracy: 0.2972\n",
            "Epoch 29/100\n",
            "484/484 [==============================] - 7s 14ms/step - loss: 3.4031 - accuracy: 0.3143\n",
            "Epoch 30/100\n",
            "484/484 [==============================] - 7s 14ms/step - loss: 3.3012 - accuracy: 0.3344\n",
            "Epoch 31/100\n",
            "484/484 [==============================] - 7s 14ms/step - loss: 3.1939 - accuracy: 0.3624\n",
            "Epoch 32/100\n",
            "484/484 [==============================] - 7s 14ms/step - loss: 3.1067 - accuracy: 0.3774\n",
            "Epoch 33/100\n",
            "484/484 [==============================] - 7s 14ms/step - loss: 3.0167 - accuracy: 0.4003\n",
            "Epoch 34/100\n",
            "484/484 [==============================] - 7s 14ms/step - loss: 2.9374 - accuracy: 0.4177\n",
            "Epoch 35/100\n",
            "484/484 [==============================] - 7s 14ms/step - loss: 2.8524 - accuracy: 0.4415\n",
            "Epoch 36/100\n",
            "484/484 [==============================] - 7s 14ms/step - loss: 2.7730 - accuracy: 0.4564\n",
            "Epoch 37/100\n",
            "484/484 [==============================] - 7s 14ms/step - loss: 2.6952 - accuracy: 0.4740\n",
            "Epoch 38/100\n",
            "484/484 [==============================] - 7s 14ms/step - loss: 2.6263 - accuracy: 0.4940\n",
            "Epoch 39/100\n",
            "484/484 [==============================] - 7s 14ms/step - loss: 2.5608 - accuracy: 0.5043\n",
            "Epoch 40/100\n",
            "484/484 [==============================] - 7s 13ms/step - loss: 2.4887 - accuracy: 0.5204\n",
            "Epoch 41/100\n",
            "484/484 [==============================] - 7s 14ms/step - loss: 2.4315 - accuracy: 0.5371\n",
            "Epoch 42/100\n",
            "484/484 [==============================] - 7s 14ms/step - loss: 2.3604 - accuracy: 0.5501\n",
            "Epoch 43/100\n",
            "484/484 [==============================] - 7s 14ms/step - loss: 2.2984 - accuracy: 0.5675\n",
            "Epoch 44/100\n",
            "484/484 [==============================] - 7s 14ms/step - loss: 2.2486 - accuracy: 0.5755\n",
            "Epoch 45/100\n",
            "484/484 [==============================] - 7s 14ms/step - loss: 2.1860 - accuracy: 0.5890\n",
            "Epoch 46/100\n",
            "484/484 [==============================] - 7s 14ms/step - loss: 2.1392 - accuracy: 0.6030\n",
            "Epoch 47/100\n",
            "484/484 [==============================] - 7s 14ms/step - loss: 2.0766 - accuracy: 0.6163\n",
            "Epoch 48/100\n",
            "484/484 [==============================] - 7s 13ms/step - loss: 2.0334 - accuracy: 0.6246\n",
            "Epoch 49/100\n",
            "484/484 [==============================] - 7s 14ms/step - loss: 1.9980 - accuracy: 0.6323\n",
            "Epoch 50/100\n",
            "484/484 [==============================] - 7s 14ms/step - loss: 1.9540 - accuracy: 0.6455\n",
            "Epoch 51/100\n",
            "484/484 [==============================] - 7s 14ms/step - loss: 1.9098 - accuracy: 0.6522\n",
            "Epoch 52/100\n",
            "484/484 [==============================] - 7s 14ms/step - loss: 1.8756 - accuracy: 0.6632\n",
            "Epoch 53/100\n",
            "484/484 [==============================] - 7s 14ms/step - loss: 1.8181 - accuracy: 0.6735\n",
            "Epoch 54/100\n",
            "484/484 [==============================] - 7s 14ms/step - loss: 1.7742 - accuracy: 0.6824\n",
            "Epoch 55/100\n",
            "484/484 [==============================] - 7s 14ms/step - loss: 1.7517 - accuracy: 0.6890\n",
            "Epoch 56/100\n",
            "484/484 [==============================] - 7s 14ms/step - loss: 1.7367 - accuracy: 0.6893\n",
            "Epoch 57/100\n",
            "484/484 [==============================] - 7s 14ms/step - loss: 1.6861 - accuracy: 0.7020\n",
            "Epoch 58/100\n",
            "484/484 [==============================] - 7s 14ms/step - loss: 1.6618 - accuracy: 0.7040\n",
            "Epoch 59/100\n",
            "484/484 [==============================] - 7s 14ms/step - loss: 1.6321 - accuracy: 0.7115\n",
            "Epoch 60/100\n",
            "484/484 [==============================] - 7s 14ms/step - loss: 1.5923 - accuracy: 0.7202\n",
            "Epoch 61/100\n",
            "484/484 [==============================] - 7s 14ms/step - loss: 1.5805 - accuracy: 0.7261\n",
            "Epoch 62/100\n",
            "484/484 [==============================] - 7s 14ms/step - loss: 1.5457 - accuracy: 0.7290\n",
            "Epoch 63/100\n",
            "484/484 [==============================] - 7s 14ms/step - loss: 1.5227 - accuracy: 0.7328\n",
            "Epoch 64/100\n",
            "484/484 [==============================] - 6s 13ms/step - loss: 1.5043 - accuracy: 0.7372\n",
            "Epoch 65/100\n",
            "484/484 [==============================] - 7s 14ms/step - loss: 1.4758 - accuracy: 0.7414\n",
            "Epoch 66/100\n",
            "484/484 [==============================] - 7s 14ms/step - loss: 1.4574 - accuracy: 0.7463\n",
            "Epoch 67/100\n",
            "484/484 [==============================] - 7s 14ms/step - loss: 1.4266 - accuracy: 0.7516\n",
            "Epoch 68/100\n",
            "484/484 [==============================] - 6s 13ms/step - loss: 1.3999 - accuracy: 0.7609\n",
            "Epoch 69/100\n",
            "484/484 [==============================] - 7s 14ms/step - loss: 1.3928 - accuracy: 0.7573\n",
            "Epoch 70/100\n",
            "484/484 [==============================] - 7s 14ms/step - loss: 1.3983 - accuracy: 0.7542\n",
            "Epoch 71/100\n",
            "484/484 [==============================] - 7s 14ms/step - loss: 1.3678 - accuracy: 0.7623\n",
            "Epoch 72/100\n",
            "484/484 [==============================] - 7s 14ms/step - loss: 1.3467 - accuracy: 0.7642\n",
            "Epoch 73/100\n",
            "484/484 [==============================] - 7s 14ms/step - loss: 1.3023 - accuracy: 0.7738\n",
            "Epoch 74/100\n",
            "484/484 [==============================] - 7s 14ms/step - loss: 1.2881 - accuracy: 0.7797\n",
            "Epoch 75/100\n",
            "484/484 [==============================] - 7s 13ms/step - loss: 1.2787 - accuracy: 0.7795\n",
            "Epoch 76/100\n",
            "484/484 [==============================] - 7s 14ms/step - loss: 1.2840 - accuracy: 0.7793\n",
            "Epoch 77/100\n",
            "484/484 [==============================] - 7s 14ms/step - loss: 1.2739 - accuracy: 0.7752\n",
            "Epoch 78/100\n",
            "484/484 [==============================] - 7s 14ms/step - loss: 1.2473 - accuracy: 0.7844\n",
            "Epoch 79/100\n",
            "484/484 [==============================] - 7s 14ms/step - loss: 1.2369 - accuracy: 0.7854\n",
            "Epoch 80/100\n",
            "484/484 [==============================] - 7s 14ms/step - loss: 1.2090 - accuracy: 0.7886\n",
            "Epoch 81/100\n",
            "484/484 [==============================] - 7s 14ms/step - loss: 1.2082 - accuracy: 0.7901\n",
            "Epoch 82/100\n",
            "484/484 [==============================] - 7s 14ms/step - loss: 1.2064 - accuracy: 0.7915\n",
            "Epoch 83/100\n",
            "484/484 [==============================] - 7s 14ms/step - loss: 1.1756 - accuracy: 0.7972\n",
            "Epoch 84/100\n",
            "484/484 [==============================] - 7s 14ms/step - loss: 1.1796 - accuracy: 0.7934\n",
            "Epoch 85/100\n",
            "484/484 [==============================] - 6s 13ms/step - loss: 1.1588 - accuracy: 0.7989\n",
            "Epoch 86/100\n",
            "484/484 [==============================] - 7s 14ms/step - loss: 1.1400 - accuracy: 0.8018\n",
            "Epoch 87/100\n",
            "484/484 [==============================] - 7s 14ms/step - loss: 1.1526 - accuracy: 0.8029\n",
            "Epoch 88/100\n",
            "484/484 [==============================] - 7s 14ms/step - loss: 1.1350 - accuracy: 0.8029\n",
            "Epoch 89/100\n",
            "484/484 [==============================] - 7s 14ms/step - loss: 1.1204 - accuracy: 0.8062\n",
            "Epoch 90/100\n",
            "484/484 [==============================] - 7s 14ms/step - loss: 1.1225 - accuracy: 0.8009\n",
            "Epoch 91/100\n",
            "484/484 [==============================] - 7s 14ms/step - loss: 1.1143 - accuracy: 0.8076\n",
            "Epoch 92/100\n",
            "484/484 [==============================] - 7s 14ms/step - loss: 1.0792 - accuracy: 0.8124\n",
            "Epoch 93/100\n",
            "484/484 [==============================] - 7s 14ms/step - loss: 1.0941 - accuracy: 0.8075\n",
            "Epoch 94/100\n",
            "484/484 [==============================] - 7s 14ms/step - loss: 1.0819 - accuracy: 0.8113\n",
            "Epoch 95/100\n",
            "484/484 [==============================] - 7s 14ms/step - loss: 1.0676 - accuracy: 0.8122\n",
            "Epoch 96/100\n",
            "484/484 [==============================] - 7s 14ms/step - loss: 1.0537 - accuracy: 0.8133\n",
            "Epoch 97/100\n",
            "484/484 [==============================] - 7s 14ms/step - loss: 1.0523 - accuracy: 0.8135\n",
            "Epoch 98/100\n",
            "484/484 [==============================] - 7s 14ms/step - loss: 1.0653 - accuracy: 0.8106\n",
            "Epoch 99/100\n",
            "484/484 [==============================] - 7s 14ms/step - loss: 1.0404 - accuracy: 0.8154\n",
            "Epoch 100/100\n",
            "484/484 [==============================] - 7s 14ms/step - loss: 1.0289 - accuracy: 0.8154\n"
          ],
          "name": "stdout"
        }
      ]
    },
    {
      "cell_type": "code",
      "metadata": {
        "colab_type": "code",
        "id": "1fXTEO3GJ282",
        "colab": {
          "base_uri": "https://localhost:8080/",
          "height": 545
        },
        "outputId": "e5aa9903-319f-466d-e925-3aafbb18c322"
      },
      "source": [
        "import matplotlib.pyplot as plt\n",
        "acc = history.history['accuracy']\n",
        "loss = history.history['loss']\n",
        "\n",
        "epochs = range(len(acc))\n",
        "\n",
        "plt.plot(epochs, acc, 'b', label='Training accuracy')\n",
        "plt.title('Training accuracy')\n",
        "\n",
        "plt.figure()\n",
        "\n",
        "plt.plot(epochs, loss, 'b', label='Training Loss')\n",
        "plt.title('Training loss')\n",
        "plt.legend()\n",
        "\n",
        "plt.show()"
      ],
      "execution_count": 6,
      "outputs": [
        {
          "output_type": "display_data",
          "data": {
            "image/png": "[encoded data removed]",
            "text/plain": [
              "<Figure size 432x288 with 1 Axes>"
            ]
          },
          "metadata": {
            "tags": [],
            "needs_background": "light"
          }
        },
        {
          "output_type": "display_data",
          "data": {
            "image/png": "[encoded data removed]",
            "text/plain": [
              "<Figure size 432x288 with 1 Axes>"
            ]
          },
          "metadata": {
            "tags": [],
            "needs_background": "light"
          }
        }
      ]
    },
    {
      "cell_type": "code",
      "metadata": {
        "colab_type": "code",
        "id": "6Vc6PHgxa6Hm",
        "colab": {
          "base_uri": "https://localhost:8080/",
          "height": 104
        },
        "outputId": "fbb7e09f-164b-4ac1-ca35-8d4eec5ee937"
      },
      "source": [
        "seed_text = \"Help me Obi Wan Kenobi, you're my only hope\"\n",
        "next_words = 100\n",
        "  \n",
        "for _ in range(next_words):\n",
        "\ttoken_list = tokenizer.texts_to_sequences([seed_text])[0]\n",
        "\ttoken_list = pad_sequences([token_list], maxlen=max_sequence_len-1, padding='pre')\n",
        "\tpredicted = model.predict_classes(token_list, verbose=0)\n",
        "\toutput_word = \"\"\n",
        "\tfor word, index in tokenizer.word_index.items():\n",
        "\t\tif index == predicted:\n",
        "\t\t\toutput_word = word\n",
        "\t\t\tbreak\n",
        "\tseed_text += \" \" + output_word\n",
        "print(seed_text)"
      ],
      "execution_count": 7,
      "outputs": [
        {
          "output_type": "stream",
          "text": [
            "WARNING:tensorflow:From <ipython-input-7-622d307fa19a>:7: Sequential.predict_classes (from tensorflow.python.keras.engine.sequential) is deprecated and will be removed after 2021-01-01.\n",
            "Instructions for updating:\n",
            "Please use instead:* `np.argmax(model.predict(x), axis=-1)`,   if your model does multi-class classification   (e.g. if it uses a `softmax` last-layer activation).* `(model.predict(x) > 0.5).astype(\"int32\")`,   if your model does binary classification   (e.g. if it uses a `sigmoid` last-layer activation).\n",
            "Help me Obi Wan Kenobi, you're my only hope faults and was the loss of thee excuse thee so nothing nothing mock you now find her you so privilege thee mine eye be 'will ' weep of ' are so taste did lose swear new of lie in wanting hate of grow cheeks brow free end ' go cold perpetual beard did feel seen they seen excuse go store so cause with hate doth lie so men in every sight are youth still lies tend die must ' go right both hate back again graced be seen hate graced are store so prove lie must in grow cheeks brow\n"
          ],
          "name": "stdout"
        }
      ]
    }
  ]
}